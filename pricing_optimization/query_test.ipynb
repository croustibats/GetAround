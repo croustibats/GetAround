{
 "cells": [
  {
   "cell_type": "code",
   "execution_count": 2,
   "metadata": {},
   "outputs": [],
   "source": [
    "import requests"
   ]
  },
  {
   "cell_type": "code",
   "execution_count": 44,
   "metadata": {},
   "outputs": [
    {
     "data": {
      "text/plain": [
       "{'name': 'Foo',\n",
       " 'description': 'An optional description',\n",
       " 'price': 45.2,\n",
       " 'tax': 3.5}"
      ]
     },
     "execution_count": 44,
     "metadata": {},
     "output_type": "execute_result"
    }
   ],
   "source": [
    "test_dict = {\n",
    "    \"name\": \"Foo\",\n",
    "    \"description\": \"An optional description\",\n",
    "    \"price\": 45.2,\n",
    "    \"tax\": 3.5\n",
    "}\n",
    "\n",
    "r = requests.post(\"http://localhost:4000/items\", json = test_dict)\n",
    "r.json()"
   ]
  },
  {
   "cell_type": "code",
   "execution_count": 4,
   "metadata": {},
   "outputs": [
    {
     "data": {
      "text/plain": [
       "b'{\"prediction\":145.78}'"
      ]
     },
     "execution_count": 4,
     "metadata": {},
     "output_type": "execute_result"
    }
   ],
   "source": [
    "response = requests.post(\"http://localhost:4000/predict\", json = {\n",
    "    \"model_key\": \"Peugeot\",\n",
    "    \"mileage\": 13929,\n",
    "    \"engine_power\": 120,\n",
    "    \"fuel\": \"diesel\",\n",
    "    \"paint_color\": \"white\",\n",
    "    \"car_type\": \"convertible\",\n",
    "    \"private_parking_available\": False,\n",
    "    \"has_gps\": True,\n",
    "    \"has_air_conditioning\": False,\n",
    "    \"automatic_car\": True,\n",
    "    \"has_getaround_connect\": False,\n",
    "    \"has_speed_regulator\": True,\n",
    "    \"winter_tires\": False\n",
    "})\n",
    "response.content"
   ]
  },
  {
   "cell_type": "code",
   "execution_count": null,
   "metadata": {},
   "outputs": [],
   "source": []
  }
 ],
 "metadata": {
  "kernelspec": {
   "display_name": "Python 3.10.0 64-bit",
   "language": "python",
   "name": "python3"
  },
  "language_info": {
   "codemirror_mode": {
    "name": "ipython",
    "version": 3
   },
   "file_extension": ".py",
   "mimetype": "text/x-python",
   "name": "python",
   "nbconvert_exporter": "python",
   "pygments_lexer": "ipython3",
   "version": "3.10.0"
  },
  "orig_nbformat": 4,
  "vscode": {
   "interpreter": {
    "hash": "6b23b447ae8d7dd20d4fc812b5289c3091e759321a9b689f6e1bbc2b9587a95b"
   }
  }
 },
 "nbformat": 4,
 "nbformat_minor": 2
}
